{
 "cells": [
  {
   "cell_type": "code",
   "execution_count": 1,
   "metadata": {},
   "outputs": [],
   "source": [
    "import matplotlib"
   ]
  },
  {
   "cell_type": "code",
   "execution_count": 2,
   "metadata": {},
   "outputs": [
    {
     "name": "stdout",
     "output_type": "stream",
     "text": [
      "(0.75, 2)\n",
      "(0, 3)\n"
     ]
    }
   ],
   "source": [
    "QWERTY_LAYOUT = {'row1': {\n",
    "    'keys': '`1234567890-=',\n",
    "    'positions': [\n",
    "                (0, 0), (1, 0), (2, 0), (3, 0), (4, 0), (5, 0), (6, 0), (7, 0),\n",
    "                (8, 0), (9, 0), (10, 0), (11, 0), (12, 0)]\n",
    "            },\n",
    "        'row2': {\n",
    "        'keys': 'qwertyuiop[]\\\\',\n",
    "        'positions': [\n",
    "            (0.5, 1), (1.5, 1), (2.5, 1), (3.5, 1), (4.5, 1), (5.5, 1),\n",
    "            (6.5, 1), (7.5, 1), (8.5, 1), (9.5, 1), (10.5, 1), (11.5, 1),(12.5, 1)\n",
    "        ]\n",
    "        },\n",
    "        'row3': {\n",
    "        'keys': 'asdfghjkl;\\'',\n",
    "        'positions': [\n",
    "        (0.75, 2), (1.75, 2), (2.75, 2), (3.75, 2), (4.75, 2), (5.75, 2),\n",
    "        (6.75, 2), (7.75, 2), (8.75, 2), (9.75, 2), (10.75, 2)\n",
    "        ]\n",
    "        },\n",
    "        'row4': {\n",
    "        'keys': 'zxcvbnm,./',\n",
    "        'positions': [\n",
    "        (1.25, 3), (2.25, 3), (3.25, 3), (4.25, 3), (5.25, 3), (6.25, 3),\n",
    "        (7.25, 3), (8.25, 3), (9.25, 3), (10.25, 3)\n",
    "        ]\n",
    "},\n",
    "            'special_keys': {\n",
    "            'Shift_L': (0, 3),\n",
    "            'Shift_R': (11.25, 3),\n",
    "\n",
    "            'Space': (3.5, 4),\n",
    "            'Backspace': (13, 0),\n",
    "            'Tab': (0, 1),\n",
    "            'CapsLock': (0, 2),\n",
    "            'Enter': (12, 2)\n",
    "            }\n",
    "}\n",
    "# Function to get key position\n",
    "def get_key_position(key):\n",
    "    for row in QWERTY_LAYOUT.values():\n",
    "        if 'keys' in row and key in row['keys']:\n",
    "            index = row['keys'].index(key)\n",
    "            return row['positions'][index]\n",
    "    return QWERTY_LAYOUT['special_keys'].get(key)\n",
    "# Example usage\n",
    "print(get_key_position('a')) # Output: (0.75, 2)\n",
    "print(get_key_position('Shift_L')) # Output: (0, 3)\n"
   ]
  }
 ],
 "metadata": {
  "kernelspec": {
   "display_name": "Python 3",
   "language": "python",
   "name": "python3"
  },
  "language_info": {
   "codemirror_mode": {
    "name": "ipython",
    "version": 3
   },
   "file_extension": ".py",
   "mimetype": "text/x-python",
   "name": "python",
   "nbconvert_exporter": "python",
   "pygments_lexer": "ipython3",
   "version": "3.11.7"
  }
 },
 "nbformat": 4,
 "nbformat_minor": 2
}
