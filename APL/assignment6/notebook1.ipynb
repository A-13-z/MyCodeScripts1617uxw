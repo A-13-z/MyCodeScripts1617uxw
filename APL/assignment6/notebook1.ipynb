{
 "cells": [
  {
   "cell_type": "code",
   "execution_count": 1,
   "metadata": {},
   "outputs": [],
   "source": [
    "%load_ext Cython"
   ]
  },
  {
   "cell_type": "code",
   "execution_count": 35,
   "metadata": {},
   "outputs": [
    {
     "name": "stdout",
     "output_type": "stream",
     "text": [
      "Content of stdout:\n",
      "_cython_magic_ae638d4603716480516fb2ce258e90a81381e754.c\n",
      "   Creating library C:\\Users\\amazi\\.ipython\\cython\\Users\\amazi\\.ipython\\cython\\_cython_magic_ae638d4603716480516fb2ce258e90a81381e754.cp311-win_amd64.lib and object C:\\Users\\amazi\\.ipython\\cython\\Users\\amazi\\.ipython\\cython\\_cython_magic_ae638d4603716480516fb2ce258e90a81381e754.cp311-win_amd64.exp\n",
      "Generating code\n",
      "Finished generating code"
     ]
    }
   ],
   "source": [
    "%%cython\n",
    "\n",
    "import cython\n",
    "\n",
    "@cython.cfunc\n",
    "@cython.inline\n",
    "@cython.boundscheck(False)\n",
    "@cython.wraparound(False)\n",
    "@cython.cdivision(True)\n",
    "\n",
    "cdef double trap(double (*f)(double), double a, double b, int n):\n",
    "    cdef double res = 0\n",
    "    cdef int i\n",
    "    cdef double h = (b - a) / n \n",
    "    cdef double x2, y1, y2\n",
    "    y1 = f(a)\n",
    "    x2 = a + h\n",
    "    for _ in range(1, n + 1):\n",
    "        y2 = f(x2)\n",
    "        \n",
    "        res += 0.5 * h * (y1 + y2)\n",
    "\n",
    "        y1 = y2\n",
    "        x2 += h\n",
    "\n",
    "    return res\n",
    "\n",
    "@cython.cfunc\n",
    "@cython.inline\n",
    "cdef inline double f1(double x):\n",
    "    return x**2\n",
    "\n",
    "def trap_wrapper():\n",
    "    return trap(f1, 0, 1, 10**7)"
   ]
  },
  {
   "cell_type": "code",
   "execution_count": 36,
   "metadata": {},
   "outputs": [
    {
     "name": "stdout",
     "output_type": "stream",
     "text": [
      "332 ms ± 5.99 ms per loop (mean ± std. dev. of 7 runs, 1 loop each)\n"
     ]
    }
   ],
   "source": [
    "%%timeit \n",
    "\n",
    "trap_wrapper()"
   ]
  },
  {
   "cell_type": "code",
   "execution_count": 20,
   "metadata": {},
   "outputs": [],
   "source": [
    "import numpy as np"
   ]
  },
  {
   "cell_type": "code",
   "execution_count": 21,
   "metadata": {},
   "outputs": [],
   "source": [
    "def f2(x):\n",
    "    return x**2\n",
    "\n",
    "# Set up the interval\n",
    "x = np.linspace(0, 1, 10_000_000)\n",
    "\n",
    "# Evaluate f1 at each point in the interval\n",
    "y = f2(x)"
   ]
  },
  {
   "cell_type": "code",
   "execution_count": 22,
   "metadata": {},
   "outputs": [
    {
     "name": "stdout",
     "output_type": "stream",
     "text": [
      "181 ms ± 3.11 ms per loop (mean ± std. dev. of 7 runs, 10 loops each)\n"
     ]
    }
   ],
   "source": [
    "%%timeit\n",
    "\n",
    "np.trapz(y, x)"
   ]
  },
  {
   "cell_type": "code",
   "execution_count": 37,
   "metadata": {},
   "outputs": [],
   "source": [
    "def trapz(f, a, b, n):\n",
    "    h = (b - a) / n\n",
    "    res = 0\n",
    "\n",
    "    y1 = f(a)\n",
    "    x2 = a + h\n",
    "    for _ in range(1, n + 1):\n",
    "        y2 = f(x2)\n",
    "        \n",
    "        res += 0.5 * h * (y1 + y2)\n",
    "\n",
    "        y1 = y2\n",
    "        x2 += h\n",
    "\n",
    "    return res\n",
    "\n",
    "\n",
    "def f3(x):\n",
    "    return x**2"
   ]
  },
  {
   "cell_type": "code",
   "execution_count": 39,
   "metadata": {},
   "outputs": [
    {
     "name": "stdout",
     "output_type": "stream",
     "text": [
      "2.95 s ± 179 ms per loop (mean ± std. dev. of 7 runs, 1 loop each)\n"
     ]
    }
   ],
   "source": [
    "%%timeit\n",
    "\n",
    "trapz(f3, 0, 1, 10**7)"
   ]
  }
 ],
 "metadata": {
  "kernelspec": {
   "display_name": "Python 3",
   "language": "python",
   "name": "python3"
  },
  "language_info": {
   "codemirror_mode": {
    "name": "ipython",
    "version": 3
   },
   "file_extension": ".py",
   "mimetype": "text/x-python",
   "name": "python",
   "nbconvert_exporter": "python",
   "pygments_lexer": "ipython3",
   "version": "3.11.7"
  }
 },
 "nbformat": 4,
 "nbformat_minor": 2
}
