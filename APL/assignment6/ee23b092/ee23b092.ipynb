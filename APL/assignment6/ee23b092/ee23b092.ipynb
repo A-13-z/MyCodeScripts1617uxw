{
 "cells": [
  {
   "cell_type": "markdown",
   "metadata": {},
   "source": [
    "# Assignment 6 - Speeding up with Cython"
   ]
  },
  {
   "cell_type": "markdown",
   "metadata": {},
   "source": [
    "## Using Cython to speed the code"
   ]
  },
  {
   "cell_type": "code",
   "execution_count": 1,
   "metadata": {},
   "outputs": [],
   "source": [
    "%load_ext Cython"
   ]
  },
  {
   "cell_type": "code",
   "execution_count": 2,
   "metadata": {},
   "outputs": [],
   "source": [
    "%%cython\n",
    "\n",
    "import cython\n",
    "\n",
    "@cython.boundscheck(False)\n",
    "@cython.wraparound(False)\n",
    "@cython.cdivision(True)\n",
    "\n",
    "cdef double cy_trapz(double (*f)(double), double a, double b, int n):\n",
    "    #initializing the variables\n",
    "    cdef double res = 0   #stores the final result\n",
    "    cdef double h = (b - a) / n    #width of the interval in the x-axis\n",
    "    cdef double x2, y1, y2\n",
    "    y1 = f(a)\n",
    "    x2 = a + h\n",
    "    for _ in range(1, n + 1):\n",
    "        y2 = f(x2)\n",
    "        \n",
    "        #increment res by the area of the trapezium\n",
    "        res += 0.5 * h * (y1 + y2)\n",
    "\n",
    "        y1 = y2\n",
    "        x2 += h\n",
    "\n",
    "    return res\n",
    "\n",
    "#making the function to integrate inline\n",
    "@cython.inline\n",
    "cdef inline double f1(double x):\n",
    "    return x**2\n",
    "\n",
    "#using a wrapper function to measure the time taken\n",
    "def trap_wrapper():\n",
    "    #10 million trapezoids\n",
    "    return cy_trapz(f1, 0, 1, 10**7)"
   ]
  },
  {
   "cell_type": "code",
   "execution_count": 3,
   "metadata": {},
   "outputs": [
    {
     "name": "stdout",
     "output_type": "stream",
     "text": [
      "13.1 ms ± 381 µs per loop (mean ± std. dev. of 7 runs, 100 loops each)\n"
     ]
    }
   ],
   "source": [
    "%%timeit \n",
    "\n",
    "trap_wrapper()"
   ]
  },
  {
   "cell_type": "markdown",
   "metadata": {},
   "source": [
    "## Using Numpy to implement the trapezoidal rule of Integration"
   ]
  },
  {
   "cell_type": "code",
   "execution_count": 4,
   "metadata": {},
   "outputs": [],
   "source": [
    "import numpy as np"
   ]
  },
  {
   "cell_type": "code",
   "execution_count": 5,
   "metadata": {},
   "outputs": [],
   "source": [
    "def f2(x):\n",
    "    return x**2\n",
    "\n",
    "#the interval of points in the x axis\n",
    "x = np.linspace(0, 1, 10_000_000)\n",
    "\n",
    "#function values at each x\n",
    "y = f2(x)"
   ]
  },
  {
   "cell_type": "code",
   "execution_count": 6,
   "metadata": {},
   "outputs": [
    {
     "name": "stdout",
     "output_type": "stream",
     "text": [
      "98.8 ms ± 1.45 ms per loop (mean ± std. dev. of 7 runs, 10 loops each)\n"
     ]
    }
   ],
   "source": [
    "%%timeit\n",
    "\n",
    "np.trapz(y, x)"
   ]
  },
  {
   "cell_type": "markdown",
   "metadata": {},
   "source": [
    "## Using Python without any libraries for optimizations "
   ]
  },
  {
   "cell_type": "code",
   "execution_count": 7,
   "metadata": {},
   "outputs": [],
   "source": [
    "def py_trapz(f, a, b, n):\n",
    "    #similar functionality to cy_trapz\n",
    "    h = (b - a) / n\n",
    "    res = 0\n",
    "\n",
    "    y1 = f(a)\n",
    "    x2 = a + h\n",
    "    for _ in range(1, n + 1):\n",
    "        y2 = f(x2)\n",
    "        \n",
    "        res += 0.5 * h * (y1 + y2)\n",
    "\n",
    "        y1 = y2\n",
    "        x2 += h\n",
    "\n",
    "    return res\n",
    "\n",
    "\n",
    "def f3(x):\n",
    "    return x**2"
   ]
  },
  {
   "cell_type": "code",
   "execution_count": 8,
   "metadata": {},
   "outputs": [
    {
     "name": "stdout",
     "output_type": "stream",
     "text": [
      "1.98 s ± 29.7 ms per loop (mean ± std. dev. of 7 runs, 1 loop each)\n"
     ]
    }
   ],
   "source": [
    "%%timeit\n",
    "\n",
    "py_trapz(f3, 0, 1, 10**7)"
   ]
  },
  {
   "cell_type": "code",
   "execution_count": null,
   "metadata": {},
   "outputs": [],
   "source": []
  }
 ],
 "metadata": {
  "kernelspec": {
   "display_name": "Python 3 (ipykernel)",
   "language": "python",
   "name": "python3"
  },
  "language_info": {
   "codemirror_mode": {
    "name": "ipython",
    "version": 3
   },
   "file_extension": ".py",
   "mimetype": "text/x-python",
   "name": "python",
   "nbconvert_exporter": "python",
   "pygments_lexer": "ipython3",
   "version": "3.9.2"
  }
 },
 "nbformat": 4,
 "nbformat_minor": 4
}
