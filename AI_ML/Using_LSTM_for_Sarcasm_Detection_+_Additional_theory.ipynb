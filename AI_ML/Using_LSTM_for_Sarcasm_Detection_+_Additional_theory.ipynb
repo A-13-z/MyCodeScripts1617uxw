{
  "nbformat": 4,
  "nbformat_minor": 0,
  "metadata": {
    "colab": {
      "provenance": []
    },
    "kernelspec": {
      "name": "python3",
      "display_name": "Python 3"
    },
    "language_info": {
      "name": "python"
    }
  },
  "cells": [
    {
      "cell_type": "markdown",
      "source": [
        "## Importing relevant modules"
      ],
      "metadata": {
        "id": "39JJnZSMJSj_"
      }
    },
    {
      "cell_type": "code",
      "execution_count": null,
      "metadata": {
        "colab": {
          "base_uri": "https://localhost:8080/"
        },
        "id": "YFOqWrV-oUi6",
        "outputId": "e9609c48-b3ab-400b-b787-1154d0c014bc"
      },
      "outputs": [
        {
          "output_type": "stream",
          "name": "stdout",
          "text": [
            "Requirement already satisfied: transformers in /usr/local/lib/python3.10/dist-packages (4.41.2)\n",
            "Requirement already satisfied: filelock in /usr/local/lib/python3.10/dist-packages (from transformers) (3.15.3)\n",
            "Requirement already satisfied: huggingface-hub<1.0,>=0.23.0 in /usr/local/lib/python3.10/dist-packages (from transformers) (0.23.4)\n",
            "Requirement already satisfied: numpy>=1.17 in /usr/local/lib/python3.10/dist-packages (from transformers) (1.25.2)\n",
            "Requirement already satisfied: packaging>=20.0 in /usr/local/lib/python3.10/dist-packages (from transformers) (24.1)\n",
            "Requirement already satisfied: pyyaml>=5.1 in /usr/local/lib/python3.10/dist-packages (from transformers) (6.0.1)\n",
            "Requirement already satisfied: regex!=2019.12.17 in /usr/local/lib/python3.10/dist-packages (from transformers) (2024.5.15)\n",
            "Requirement already satisfied: requests in /usr/local/lib/python3.10/dist-packages (from transformers) (2.31.0)\n",
            "Requirement already satisfied: tokenizers<0.20,>=0.19 in /usr/local/lib/python3.10/dist-packages (from transformers) (0.19.1)\n",
            "Requirement already satisfied: safetensors>=0.4.1 in /usr/local/lib/python3.10/dist-packages (from transformers) (0.4.3)\n",
            "Requirement already satisfied: tqdm>=4.27 in /usr/local/lib/python3.10/dist-packages (from transformers) (4.66.4)\n",
            "Requirement already satisfied: fsspec>=2023.5.0 in /usr/local/lib/python3.10/dist-packages (from huggingface-hub<1.0,>=0.23.0->transformers) (2023.6.0)\n",
            "Requirement already satisfied: typing-extensions>=3.7.4.3 in /usr/local/lib/python3.10/dist-packages (from huggingface-hub<1.0,>=0.23.0->transformers) (4.12.2)\n",
            "Requirement already satisfied: charset-normalizer<4,>=2 in /usr/local/lib/python3.10/dist-packages (from requests->transformers) (3.3.2)\n",
            "Requirement already satisfied: idna<4,>=2.5 in /usr/local/lib/python3.10/dist-packages (from requests->transformers) (3.7)\n",
            "Requirement already satisfied: urllib3<3,>=1.21.1 in /usr/local/lib/python3.10/dist-packages (from requests->transformers) (2.0.7)\n",
            "Requirement already satisfied: certifi>=2017.4.17 in /usr/local/lib/python3.10/dist-packages (from requests->transformers) (2024.6.2)\n"
          ]
        }
      ],
      "source": [
        "!pip install transformers"
      ]
    },
    {
      "cell_type": "code",
      "source": [
        "import torch\n",
        "import torch.nn as nn\n",
        "import torch.nn.functional as F\n",
        "import numpy as np\n",
        "import pandas as pd\n",
        "from torch.utils.data import DataLoader, Dataset\n",
        "import matplotlib.pyplot as plt\n",
        "import json\n",
        "import transformers\n",
        "from transformers import BertModel, BertTokenizer"
      ],
      "metadata": {
        "id": "r-J2C300oZu7"
      },
      "execution_count": null,
      "outputs": []
    },
    {
      "cell_type": "markdown",
      "source": [
        "We will be using the BertModel and BertTokenizer to obtain the word embeddings. There are other ways to do this but this is a bit easier in my opinion."
      ],
      "metadata": {
        "id": "JMy-a6blJ9V_"
      }
    },
    {
      "cell_type": "markdown",
      "source": [
        "## Reading the dataset\n",
        "The dataset in [Kaggle](https://www.kaggle.com/datasets/rmisra/news-headlines-dataset-for-sarcasm-detection) is in the form of json files. So, first we convert that to csv. The commented out code block does this."
      ],
      "metadata": {
        "id": "c8sNmZ3iJbsh"
      }
    },
    {
      "cell_type": "code",
      "source": [
        "# try:\n",
        "#     df = pd.read_json('Sarcasm_Headlines_Dataset.json', encoding='utf-8')\n",
        "#     df.to_csv('sarcasm_headlines.csv', encoding='utf-8', index=False)\n",
        "# except ValueError as e:\n",
        "#     print(f\"ValueError: {e}\")\n",
        "\n",
        "# # Option 2: Read JSON file line by line and then convert\n",
        "# try:\n",
        "#     with open('Sarcasm_Headlines_Dataset.json', 'r', encoding='utf-8') as inputfile:\n",
        "#         data = [json.loads(line) for line in inputfile]\n",
        "#     df = pd.DataFrame(data)\n",
        "#     df.to_csv('sarcasm_headlines.csv', encoding='utf-8', index=False)\n",
        "# except ValueError as e:\n",
        "#     print(f\"ValueError: {e}\")"
      ],
      "metadata": {
        "id": "pXkyOYSUoflq"
      },
      "execution_count": null,
      "outputs": []
    },
    {
      "cell_type": "code",
      "source": [
        "df = pd.read_csv(\"sarcasm_headlines.csv\")\n",
        "df.head()"
      ],
      "metadata": {
        "colab": {
          "base_uri": "https://localhost:8080/",
          "height": 380
        },
        "id": "_1b0nD30oh8C",
        "outputId": "0ee7c49f-4130-4173-f104-858a3a46e61c"
      },
      "execution_count": null,
      "outputs": [
        {
          "output_type": "execute_result",
          "data": {
            "text/plain": [
              "                                        article_link  \\\n",
              "0  https://www.huffingtonpost.com/entry/versace-b...   \n",
              "1  https://www.huffingtonpost.com/entry/roseanne-...   \n",
              "2  https://local.theonion.com/mom-starting-to-fea...   \n",
              "3  https://politics.theonion.com/boehner-just-wan...   \n",
              "4  https://www.huffingtonpost.com/entry/jk-rowlin...   \n",
              "\n",
              "                                            headline  is_sarcastic  \n",
              "0  former versace store clerk sues over secret 'b...             0  \n",
              "1  the 'roseanne' revival catches up to our thorn...             0  \n",
              "2  mom starting to fear son's web series closest ...             1  \n",
              "3  boehner just wants wife to listen, not come up...             1  \n",
              "4  j.k. rowling wishes snape happy birthday in th...             0  "
            ],
            "text/html": [
              "\n",
              "  <div id=\"df-25fa4fa9-cfcc-4bcd-b350-e381fef9d206\" class=\"colab-df-container\">\n",
              "    <div>\n",
              "<style scoped>\n",
              "    .dataframe tbody tr th:only-of-type {\n",
              "        vertical-align: middle;\n",
              "    }\n",
              "\n",
              "    .dataframe tbody tr th {\n",
              "        vertical-align: top;\n",
              "    }\n",
              "\n",
              "    .dataframe thead th {\n",
              "        text-align: right;\n",
              "    }\n",
              "</style>\n",
              "<table border=\"1\" class=\"dataframe\">\n",
              "  <thead>\n",
              "    <tr style=\"text-align: right;\">\n",
              "      <th></th>\n",
              "      <th>article_link</th>\n",
              "      <th>headline</th>\n",
              "      <th>is_sarcastic</th>\n",
              "    </tr>\n",
              "  </thead>\n",
              "  <tbody>\n",
              "    <tr>\n",
              "      <th>0</th>\n",
              "      <td>https://www.huffingtonpost.com/entry/versace-b...</td>\n",
              "      <td>former versace store clerk sues over secret 'b...</td>\n",
              "      <td>0</td>\n",
              "    </tr>\n",
              "    <tr>\n",
              "      <th>1</th>\n",
              "      <td>https://www.huffingtonpost.com/entry/roseanne-...</td>\n",
              "      <td>the 'roseanne' revival catches up to our thorn...</td>\n",
              "      <td>0</td>\n",
              "    </tr>\n",
              "    <tr>\n",
              "      <th>2</th>\n",
              "      <td>https://local.theonion.com/mom-starting-to-fea...</td>\n",
              "      <td>mom starting to fear son's web series closest ...</td>\n",
              "      <td>1</td>\n",
              "    </tr>\n",
              "    <tr>\n",
              "      <th>3</th>\n",
              "      <td>https://politics.theonion.com/boehner-just-wan...</td>\n",
              "      <td>boehner just wants wife to listen, not come up...</td>\n",
              "      <td>1</td>\n",
              "    </tr>\n",
              "    <tr>\n",
              "      <th>4</th>\n",
              "      <td>https://www.huffingtonpost.com/entry/jk-rowlin...</td>\n",
              "      <td>j.k. rowling wishes snape happy birthday in th...</td>\n",
              "      <td>0</td>\n",
              "    </tr>\n",
              "  </tbody>\n",
              "</table>\n",
              "</div>\n",
              "    <div class=\"colab-df-buttons\">\n",
              "\n",
              "  <div class=\"colab-df-container\">\n",
              "    <button class=\"colab-df-convert\" onclick=\"convertToInteractive('df-25fa4fa9-cfcc-4bcd-b350-e381fef9d206')\"\n",
              "            title=\"Convert this dataframe to an interactive table.\"\n",
              "            style=\"display:none;\">\n",
              "\n",
              "  <svg xmlns=\"http://www.w3.org/2000/svg\" height=\"24px\" viewBox=\"0 -960 960 960\">\n",
              "    <path d=\"M120-120v-720h720v720H120Zm60-500h600v-160H180v160Zm220 220h160v-160H400v160Zm0 220h160v-160H400v160ZM180-400h160v-160H180v160Zm440 0h160v-160H620v160ZM180-180h160v-160H180v160Zm440 0h160v-160H620v160Z\"/>\n",
              "  </svg>\n",
              "    </button>\n",
              "\n",
              "  <style>\n",
              "    .colab-df-container {\n",
              "      display:flex;\n",
              "      gap: 12px;\n",
              "    }\n",
              "\n",
              "    .colab-df-convert {\n",
              "      background-color: #E8F0FE;\n",
              "      border: none;\n",
              "      border-radius: 50%;\n",
              "      cursor: pointer;\n",
              "      display: none;\n",
              "      fill: #1967D2;\n",
              "      height: 32px;\n",
              "      padding: 0 0 0 0;\n",
              "      width: 32px;\n",
              "    }\n",
              "\n",
              "    .colab-df-convert:hover {\n",
              "      background-color: #E2EBFA;\n",
              "      box-shadow: 0px 1px 2px rgba(60, 64, 67, 0.3), 0px 1px 3px 1px rgba(60, 64, 67, 0.15);\n",
              "      fill: #174EA6;\n",
              "    }\n",
              "\n",
              "    .colab-df-buttons div {\n",
              "      margin-bottom: 4px;\n",
              "    }\n",
              "\n",
              "    [theme=dark] .colab-df-convert {\n",
              "      background-color: #3B4455;\n",
              "      fill: #D2E3FC;\n",
              "    }\n",
              "\n",
              "    [theme=dark] .colab-df-convert:hover {\n",
              "      background-color: #434B5C;\n",
              "      box-shadow: 0px 1px 3px 1px rgba(0, 0, 0, 0.15);\n",
              "      filter: drop-shadow(0px 1px 2px rgba(0, 0, 0, 0.3));\n",
              "      fill: #FFFFFF;\n",
              "    }\n",
              "  </style>\n",
              "\n",
              "    <script>\n",
              "      const buttonEl =\n",
              "        document.querySelector('#df-25fa4fa9-cfcc-4bcd-b350-e381fef9d206 button.colab-df-convert');\n",
              "      buttonEl.style.display =\n",
              "        google.colab.kernel.accessAllowed ? 'block' : 'none';\n",
              "\n",
              "      async function convertToInteractive(key) {\n",
              "        const element = document.querySelector('#df-25fa4fa9-cfcc-4bcd-b350-e381fef9d206');\n",
              "        const dataTable =\n",
              "          await google.colab.kernel.invokeFunction('convertToInteractive',\n",
              "                                                    [key], {});\n",
              "        if (!dataTable) return;\n",
              "\n",
              "        const docLinkHtml = 'Like what you see? Visit the ' +\n",
              "          '<a target=\"_blank\" href=https://colab.research.google.com/notebooks/data_table.ipynb>data table notebook</a>'\n",
              "          + ' to learn more about interactive tables.';\n",
              "        element.innerHTML = '';\n",
              "        dataTable['output_type'] = 'display_data';\n",
              "        await google.colab.output.renderOutput(dataTable, element);\n",
              "        const docLink = document.createElement('div');\n",
              "        docLink.innerHTML = docLinkHtml;\n",
              "        element.appendChild(docLink);\n",
              "      }\n",
              "    </script>\n",
              "  </div>\n",
              "\n",
              "\n",
              "<div id=\"df-189d2f86-304c-4e6b-ba4a-d03aba8f6af9\">\n",
              "  <button class=\"colab-df-quickchart\" onclick=\"quickchart('df-189d2f86-304c-4e6b-ba4a-d03aba8f6af9')\"\n",
              "            title=\"Suggest charts\"\n",
              "            style=\"display:none;\">\n",
              "\n",
              "<svg xmlns=\"http://www.w3.org/2000/svg\" height=\"24px\"viewBox=\"0 0 24 24\"\n",
              "     width=\"24px\">\n",
              "    <g>\n",
              "        <path d=\"M19 3H5c-1.1 0-2 .9-2 2v14c0 1.1.9 2 2 2h14c1.1 0 2-.9 2-2V5c0-1.1-.9-2-2-2zM9 17H7v-7h2v7zm4 0h-2V7h2v10zm4 0h-2v-4h2v4z\"/>\n",
              "    </g>\n",
              "</svg>\n",
              "  </button>\n",
              "\n",
              "<style>\n",
              "  .colab-df-quickchart {\n",
              "      --bg-color: #E8F0FE;\n",
              "      --fill-color: #1967D2;\n",
              "      --hover-bg-color: #E2EBFA;\n",
              "      --hover-fill-color: #174EA6;\n",
              "      --disabled-fill-color: #AAA;\n",
              "      --disabled-bg-color: #DDD;\n",
              "  }\n",
              "\n",
              "  [theme=dark] .colab-df-quickchart {\n",
              "      --bg-color: #3B4455;\n",
              "      --fill-color: #D2E3FC;\n",
              "      --hover-bg-color: #434B5C;\n",
              "      --hover-fill-color: #FFFFFF;\n",
              "      --disabled-bg-color: #3B4455;\n",
              "      --disabled-fill-color: #666;\n",
              "  }\n",
              "\n",
              "  .colab-df-quickchart {\n",
              "    background-color: var(--bg-color);\n",
              "    border: none;\n",
              "    border-radius: 50%;\n",
              "    cursor: pointer;\n",
              "    display: none;\n",
              "    fill: var(--fill-color);\n",
              "    height: 32px;\n",
              "    padding: 0;\n",
              "    width: 32px;\n",
              "  }\n",
              "\n",
              "  .colab-df-quickchart:hover {\n",
              "    background-color: var(--hover-bg-color);\n",
              "    box-shadow: 0 1px 2px rgba(60, 64, 67, 0.3), 0 1px 3px 1px rgba(60, 64, 67, 0.15);\n",
              "    fill: var(--button-hover-fill-color);\n",
              "  }\n",
              "\n",
              "  .colab-df-quickchart-complete:disabled,\n",
              "  .colab-df-quickchart-complete:disabled:hover {\n",
              "    background-color: var(--disabled-bg-color);\n",
              "    fill: var(--disabled-fill-color);\n",
              "    box-shadow: none;\n",
              "  }\n",
              "\n",
              "  .colab-df-spinner {\n",
              "    border: 2px solid var(--fill-color);\n",
              "    border-color: transparent;\n",
              "    border-bottom-color: var(--fill-color);\n",
              "    animation:\n",
              "      spin 1s steps(1) infinite;\n",
              "  }\n",
              "\n",
              "  @keyframes spin {\n",
              "    0% {\n",
              "      border-color: transparent;\n",
              "      border-bottom-color: var(--fill-color);\n",
              "      border-left-color: var(--fill-color);\n",
              "    }\n",
              "    20% {\n",
              "      border-color: transparent;\n",
              "      border-left-color: var(--fill-color);\n",
              "      border-top-color: var(--fill-color);\n",
              "    }\n",
              "    30% {\n",
              "      border-color: transparent;\n",
              "      border-left-color: var(--fill-color);\n",
              "      border-top-color: var(--fill-color);\n",
              "      border-right-color: var(--fill-color);\n",
              "    }\n",
              "    40% {\n",
              "      border-color: transparent;\n",
              "      border-right-color: var(--fill-color);\n",
              "      border-top-color: var(--fill-color);\n",
              "    }\n",
              "    60% {\n",
              "      border-color: transparent;\n",
              "      border-right-color: var(--fill-color);\n",
              "    }\n",
              "    80% {\n",
              "      border-color: transparent;\n",
              "      border-right-color: var(--fill-color);\n",
              "      border-bottom-color: var(--fill-color);\n",
              "    }\n",
              "    90% {\n",
              "      border-color: transparent;\n",
              "      border-bottom-color: var(--fill-color);\n",
              "    }\n",
              "  }\n",
              "</style>\n",
              "\n",
              "  <script>\n",
              "    async function quickchart(key) {\n",
              "      const quickchartButtonEl =\n",
              "        document.querySelector('#' + key + ' button');\n",
              "      quickchartButtonEl.disabled = true;  // To prevent multiple clicks.\n",
              "      quickchartButtonEl.classList.add('colab-df-spinner');\n",
              "      try {\n",
              "        const charts = await google.colab.kernel.invokeFunction(\n",
              "            'suggestCharts', [key], {});\n",
              "      } catch (error) {\n",
              "        console.error('Error during call to suggestCharts:', error);\n",
              "      }\n",
              "      quickchartButtonEl.classList.remove('colab-df-spinner');\n",
              "      quickchartButtonEl.classList.add('colab-df-quickchart-complete');\n",
              "    }\n",
              "    (() => {\n",
              "      let quickchartButtonEl =\n",
              "        document.querySelector('#df-189d2f86-304c-4e6b-ba4a-d03aba8f6af9 button');\n",
              "      quickchartButtonEl.style.display =\n",
              "        google.colab.kernel.accessAllowed ? 'block' : 'none';\n",
              "    })();\n",
              "  </script>\n",
              "</div>\n",
              "\n",
              "    </div>\n",
              "  </div>\n"
            ],
            "application/vnd.google.colaboratory.intrinsic+json": {
              "type": "dataframe",
              "variable_name": "df",
              "summary": "{\n  \"name\": \"df\",\n  \"rows\": 26709,\n  \"fields\": [\n    {\n      \"column\": \"article_link\",\n      \"properties\": {\n        \"dtype\": \"string\",\n        \"num_unique_values\": 26708,\n        \"samples\": [\n          \"https://www.theonion.com/isis-recruiter-excited-to-be-talking-to-popular-high-sc-1819579508\",\n          \"https://www.huffingtonpost.com/entry/jimmy-fallon-could-barely-keep-it-together-during-this-cardi-b-interview_us_5a3c01aae4b06d1621b2de98\",\n          \"https://www.huffingtonpost.com/entry/4-ways-to-support-farmtos_b_5906452.html\"\n        ],\n        \"semantic_type\": \"\",\n        \"description\": \"\"\n      }\n    },\n    {\n      \"column\": \"headline\",\n      \"properties\": {\n        \"dtype\": \"string\",\n        \"num_unique_values\": 26602,\n        \"samples\": [\n          \"departing employee not quite important enough for send-off\",\n          \"college student still managing to look like asshole in picture of village he helped build\",\n          \"fun sticker placed on child's ventilator\"\n        ],\n        \"semantic_type\": \"\",\n        \"description\": \"\"\n      }\n    },\n    {\n      \"column\": \"is_sarcastic\",\n      \"properties\": {\n        \"dtype\": \"number\",\n        \"std\": 0,\n        \"min\": 0,\n        \"max\": 1,\n        \"num_unique_values\": 2,\n        \"samples\": [\n          1,\n          0\n        ],\n        \"semantic_type\": \"\",\n        \"description\": \"\"\n      }\n    }\n  ]\n}"
            }
          },
          "metadata": {},
          "execution_count": 28
        }
      ]
    },
    {
      "cell_type": "markdown",
      "source": [
        "Now, we will check to which sites, the articles belong"
      ],
      "metadata": {
        "id": "TfsU4XqAKRIp"
      }
    },
    {
      "cell_type": "markdown",
      "source": [
        "## Data pre-processing\n",
        "\n",
        "In this section, we will try to observe patterns in the data and extract good features (if any)."
      ],
      "metadata": {
        "id": "sQcl3tABOFj1"
      }
    },
    {
      "cell_type": "code",
      "source": [
        "domain_name = []\n",
        "\n",
        "for i in df['article_link']:\n",
        "    domain_name.append(i.split('/')[2])\n",
        "\n",
        "df.insert(2, 'domain_name', domain_name)\n",
        "df.head(5)"
      ],
      "metadata": {
        "colab": {
          "base_uri": "https://localhost:8080/",
          "height": 695
        },
        "id": "Gz00JPmgokc2",
        "outputId": "fda7fe3a-60c8-4774-bdc0-d3935ab34591"
      },
      "execution_count": null,
      "outputs": [
        {
          "output_type": "execute_result",
          "data": {
            "text/plain": [
              "                                        article_link  \\\n",
              "0  https://www.huffingtonpost.com/entry/versace-b...   \n",
              "1  https://www.huffingtonpost.com/entry/roseanne-...   \n",
              "2  https://local.theonion.com/mom-starting-to-fea...   \n",
              "3  https://politics.theonion.com/boehner-just-wan...   \n",
              "4  https://www.huffingtonpost.com/entry/jk-rowlin...   \n",
              "\n",
              "                                            headline             domain_name  \\\n",
              "0  former versace store clerk sues over secret 'b...  www.huffingtonpost.com   \n",
              "1  the 'roseanne' revival catches up to our thorn...  www.huffingtonpost.com   \n",
              "2  mom starting to fear son's web series closest ...      local.theonion.com   \n",
              "3  boehner just wants wife to listen, not come up...   politics.theonion.com   \n",
              "4  j.k. rowling wishes snape happy birthday in th...  www.huffingtonpost.com   \n",
              "\n",
              "   is_sarcastic  \n",
              "0             0  \n",
              "1             0  \n",
              "2             1  \n",
              "3             1  \n",
              "4             0  "
            ],
            "text/html": [
              "\n",
              "  <div id=\"df-38c4bd48-52d3-457b-babc-3b3b4236ef54\" class=\"colab-df-container\">\n",
              "    <div>\n",
              "<style scoped>\n",
              "    .dataframe tbody tr th:only-of-type {\n",
              "        vertical-align: middle;\n",
              "    }\n",
              "\n",
              "    .dataframe tbody tr th {\n",
              "        vertical-align: top;\n",
              "    }\n",
              "\n",
              "    .dataframe thead th {\n",
              "        text-align: right;\n",
              "    }\n",
              "</style>\n",
              "<table border=\"1\" class=\"dataframe\">\n",
              "  <thead>\n",
              "    <tr style=\"text-align: right;\">\n",
              "      <th></th>\n",
              "      <th>article_link</th>\n",
              "      <th>headline</th>\n",
              "      <th>domain_name</th>\n",
              "      <th>is_sarcastic</th>\n",
              "    </tr>\n",
              "  </thead>\n",
              "  <tbody>\n",
              "    <tr>\n",
              "      <th>0</th>\n",
              "      <td>https://www.huffingtonpost.com/entry/versace-b...</td>\n",
              "      <td>former versace store clerk sues over secret 'b...</td>\n",
              "      <td>www.huffingtonpost.com</td>\n",
              "      <td>0</td>\n",
              "    </tr>\n",
              "    <tr>\n",
              "      <th>1</th>\n",
              "      <td>https://www.huffingtonpost.com/entry/roseanne-...</td>\n",
              "      <td>the 'roseanne' revival catches up to our thorn...</td>\n",
              "      <td>www.huffingtonpost.com</td>\n",
              "      <td>0</td>\n",
              "    </tr>\n",
              "    <tr>\n",
              "      <th>2</th>\n",
              "      <td>https://local.theonion.com/mom-starting-to-fea...</td>\n",
              "      <td>mom starting to fear son's web series closest ...</td>\n",
              "      <td>local.theonion.com</td>\n",
              "      <td>1</td>\n",
              "    </tr>\n",
              "    <tr>\n",
              "      <th>3</th>\n",
              "      <td>https://politics.theonion.com/boehner-just-wan...</td>\n",
              "      <td>boehner just wants wife to listen, not come up...</td>\n",
              "      <td>politics.theonion.com</td>\n",
              "      <td>1</td>\n",
              "    </tr>\n",
              "    <tr>\n",
              "      <th>4</th>\n",
              "      <td>https://www.huffingtonpost.com/entry/jk-rowlin...</td>\n",
              "      <td>j.k. rowling wishes snape happy birthday in th...</td>\n",
              "      <td>www.huffingtonpost.com</td>\n",
              "      <td>0</td>\n",
              "    </tr>\n",
              "  </tbody>\n",
              "</table>\n",
              "</div>\n",
              "    <div class=\"colab-df-buttons\">\n",
              "\n",
              "  <div class=\"colab-df-container\">\n",
              "    <button class=\"colab-df-convert\" onclick=\"convertToInteractive('df-38c4bd48-52d3-457b-babc-3b3b4236ef54')\"\n",
              "            title=\"Convert this dataframe to an interactive table.\"\n",
              "            style=\"display:none;\">\n",
              "\n",
              "  <svg xmlns=\"http://www.w3.org/2000/svg\" height=\"24px\" viewBox=\"0 -960 960 960\">\n",
              "    <path d=\"M120-120v-720h720v720H120Zm60-500h600v-160H180v160Zm220 220h160v-160H400v160Zm0 220h160v-160H400v160ZM180-400h160v-160H180v160Zm440 0h160v-160H620v160ZM180-180h160v-160H180v160Zm440 0h160v-160H620v160Z\"/>\n",
              "  </svg>\n",
              "    </button>\n",
              "\n",
              "  <style>\n",
              "    .colab-df-container {\n",
              "      display:flex;\n",
              "      gap: 12px;\n",
              "    }\n",
              "\n",
              "    .colab-df-convert {\n",
              "      background-color: #E8F0FE;\n",
              "      border: none;\n",
              "      border-radius: 50%;\n",
              "      cursor: pointer;\n",
              "      display: none;\n",
              "      fill: #1967D2;\n",
              "      height: 32px;\n",
              "      padding: 0 0 0 0;\n",
              "      width: 32px;\n",
              "    }\n",
              "\n",
              "    .colab-df-convert:hover {\n",
              "      background-color: #E2EBFA;\n",
              "      box-shadow: 0px 1px 2px rgba(60, 64, 67, 0.3), 0px 1px 3px 1px rgba(60, 64, 67, 0.15);\n",
              "      fill: #174EA6;\n",
              "    }\n",
              "\n",
              "    .colab-df-buttons div {\n",
              "      margin-bottom: 4px;\n",
              "    }\n",
              "\n",
              "    [theme=dark] .colab-df-convert {\n",
              "      background-color: #3B4455;\n",
              "      fill: #D2E3FC;\n",
              "    }\n",
              "\n",
              "    [theme=dark] .colab-df-convert:hover {\n",
              "      background-color: #434B5C;\n",
              "      box-shadow: 0px 1px 3px 1px rgba(0, 0, 0, 0.15);\n",
              "      filter: drop-shadow(0px 1px 2px rgba(0, 0, 0, 0.3));\n",
              "      fill: #FFFFFF;\n",
              "    }\n",
              "  </style>\n",
              "\n",
              "    <script>\n",
              "      const buttonEl =\n",
              "        document.querySelector('#df-38c4bd48-52d3-457b-babc-3b3b4236ef54 button.colab-df-convert');\n",
              "      buttonEl.style.display =\n",
              "        google.colab.kernel.accessAllowed ? 'block' : 'none';\n",
              "\n",
              "      async function convertToInteractive(key) {\n",
              "        const element = document.querySelector('#df-38c4bd48-52d3-457b-babc-3b3b4236ef54');\n",
              "        const dataTable =\n",
              "          await google.colab.kernel.invokeFunction('convertToInteractive',\n",
              "                                                    [key], {});\n",
              "        if (!dataTable) return;\n",
              "\n",
              "        const docLinkHtml = 'Like what you see? Visit the ' +\n",
              "          '<a target=\"_blank\" href=https://colab.research.google.com/notebooks/data_table.ipynb>data table notebook</a>'\n",
              "          + ' to learn more about interactive tables.';\n",
              "        element.innerHTML = '';\n",
              "        dataTable['output_type'] = 'display_data';\n",
              "        await google.colab.output.renderOutput(dataTable, element);\n",
              "        const docLink = document.createElement('div');\n",
              "        docLink.innerHTML = docLinkHtml;\n",
              "        element.appendChild(docLink);\n",
              "      }\n",
              "    </script>\n",
              "  </div>\n",
              "\n",
              "\n",
              "<div id=\"df-0d4b08af-b244-48ad-9495-c4c9046776d6\">\n",
              "  <button class=\"colab-df-quickchart\" onclick=\"quickchart('df-0d4b08af-b244-48ad-9495-c4c9046776d6')\"\n",
              "            title=\"Suggest charts\"\n",
              "            style=\"display:none;\">\n",
              "\n",
              "<svg xmlns=\"http://www.w3.org/2000/svg\" height=\"24px\"viewBox=\"0 0 24 24\"\n",
              "     width=\"24px\">\n",
              "    <g>\n",
              "        <path d=\"M19 3H5c-1.1 0-2 .9-2 2v14c0 1.1.9 2 2 2h14c1.1 0 2-.9 2-2V5c0-1.1-.9-2-2-2zM9 17H7v-7h2v7zm4 0h-2V7h2v10zm4 0h-2v-4h2v4z\"/>\n",
              "    </g>\n",
              "</svg>\n",
              "  </button>\n",
              "\n",
              "<style>\n",
              "  .colab-df-quickchart {\n",
              "      --bg-color: #E8F0FE;\n",
              "      --fill-color: #1967D2;\n",
              "      --hover-bg-color: #E2EBFA;\n",
              "      --hover-fill-color: #174EA6;\n",
              "      --disabled-fill-color: #AAA;\n",
              "      --disabled-bg-color: #DDD;\n",
              "  }\n",
              "\n",
              "  [theme=dark] .colab-df-quickchart {\n",
              "      --bg-color: #3B4455;\n",
              "      --fill-color: #D2E3FC;\n",
              "      --hover-bg-color: #434B5C;\n",
              "      --hover-fill-color: #FFFFFF;\n",
              "      --disabled-bg-color: #3B4455;\n",
              "      --disabled-fill-color: #666;\n",
              "  }\n",
              "\n",
              "  .colab-df-quickchart {\n",
              "    background-color: var(--bg-color);\n",
              "    border: none;\n",
              "    border-radius: 50%;\n",
              "    cursor: pointer;\n",
              "    display: none;\n",
              "    fill: var(--fill-color);\n",
              "    height: 32px;\n",
              "    padding: 0;\n",
              "    width: 32px;\n",
              "  }\n",
              "\n",
              "  .colab-df-quickchart:hover {\n",
              "    background-color: var(--hover-bg-color);\n",
              "    box-shadow: 0 1px 2px rgba(60, 64, 67, 0.3), 0 1px 3px 1px rgba(60, 64, 67, 0.15);\n",
              "    fill: var(--button-hover-fill-color);\n",
              "  }\n",
              "\n",
              "  .colab-df-quickchart-complete:disabled,\n",
              "  .colab-df-quickchart-complete:disabled:hover {\n",
              "    background-color: var(--disabled-bg-color);\n",
              "    fill: var(--disabled-fill-color);\n",
              "    box-shadow: none;\n",
              "  }\n",
              "\n",
              "  .colab-df-spinner {\n",
              "    border: 2px solid var(--fill-color);\n",
              "    border-color: transparent;\n",
              "    border-bottom-color: var(--fill-color);\n",
              "    animation:\n",
              "      spin 1s steps(1) infinite;\n",
              "  }\n",
              "\n",
              "  @keyframes spin {\n",
              "    0% {\n",
              "      border-color: transparent;\n",
              "      border-bottom-color: var(--fill-color);\n",
              "      border-left-color: var(--fill-color);\n",
              "    }\n",
              "    20% {\n",
              "      border-color: transparent;\n",
              "      border-left-color: var(--fill-color);\n",
              "      border-top-color: var(--fill-color);\n",
              "    }\n",
              "    30% {\n",
              "      border-color: transparent;\n",
              "      border-left-color: var(--fill-color);\n",
              "      border-top-color: var(--fill-color);\n",
              "      border-right-color: var(--fill-color);\n",
              "    }\n",
              "    40% {\n",
              "      border-color: transparent;\n",
              "      border-right-color: var(--fill-color);\n",
              "      border-top-color: var(--fill-color);\n",
              "    }\n",
              "    60% {\n",
              "      border-color: transparent;\n",
              "      border-right-color: var(--fill-color);\n",
              "    }\n",
              "    80% {\n",
              "      border-color: transparent;\n",
              "      border-right-color: var(--fill-color);\n",
              "      border-bottom-color: var(--fill-color);\n",
              "    }\n",
              "    90% {\n",
              "      border-color: transparent;\n",
              "      border-bottom-color: var(--fill-color);\n",
              "    }\n",
              "  }\n",
              "</style>\n",
              "\n",
              "  <script>\n",
              "    async function quickchart(key) {\n",
              "      const quickchartButtonEl =\n",
              "        document.querySelector('#' + key + ' button');\n",
              "      quickchartButtonEl.disabled = true;  // To prevent multiple clicks.\n",
              "      quickchartButtonEl.classList.add('colab-df-spinner');\n",
              "      try {\n",
              "        const charts = await google.colab.kernel.invokeFunction(\n",
              "            'suggestCharts', [key], {});\n",
              "      } catch (error) {\n",
              "        console.error('Error during call to suggestCharts:', error);\n",
              "      }\n",
              "      quickchartButtonEl.classList.remove('colab-df-spinner');\n",
              "      quickchartButtonEl.classList.add('colab-df-quickchart-complete');\n",
              "    }\n",
              "    (() => {\n",
              "      let quickchartButtonEl =\n",
              "        document.querySelector('#df-0d4b08af-b244-48ad-9495-c4c9046776d6 button');\n",
              "      quickchartButtonEl.style.display =\n",
              "        google.colab.kernel.accessAllowed ? 'block' : 'none';\n",
              "    })();\n",
              "  </script>\n",
              "</div>\n",
              "\n",
              "    </div>\n",
              "  </div>\n"
            ],
            "application/vnd.google.colaboratory.intrinsic+json": {
              "type": "dataframe",
              "variable_name": "df",
              "summary": "{\n  \"name\": \"df\",\n  \"rows\": 26709,\n  \"fields\": [\n    {\n      \"column\": \"article_link\",\n      \"properties\": {\n        \"dtype\": \"string\",\n        \"num_unique_values\": 26708,\n        \"samples\": [\n          \"https://www.theonion.com/isis-recruiter-excited-to-be-talking-to-popular-high-sc-1819579508\",\n          \"https://www.huffingtonpost.com/entry/jimmy-fallon-could-barely-keep-it-together-during-this-cardi-b-interview_us_5a3c01aae4b06d1621b2de98\",\n          \"https://www.huffingtonpost.com/entry/4-ways-to-support-farmtos_b_5906452.html\"\n        ],\n        \"semantic_type\": \"\",\n        \"description\": \"\"\n      }\n    },\n    {\n      \"column\": \"headline\",\n      \"properties\": {\n        \"dtype\": \"string\",\n        \"num_unique_values\": 26602,\n        \"samples\": [\n          \"departing employee not quite important enough for send-off\",\n          \"college student still managing to look like asshole in picture of village he helped build\",\n          \"fun sticker placed on child's ventilator\"\n        ],\n        \"semantic_type\": \"\",\n        \"description\": \"\"\n      }\n    },\n    {\n      \"column\": \"domain_name\",\n      \"properties\": {\n        \"dtype\": \"category\",\n        \"num_unique_values\": 8,\n        \"samples\": [\n          \"local.theonion.com\",\n          \"www.theonion.com\",\n          \"www.huffingtonpost.com\"\n        ],\n        \"semantic_type\": \"\",\n        \"description\": \"\"\n      }\n    },\n    {\n      \"column\": \"is_sarcastic\",\n      \"properties\": {\n        \"dtype\": \"number\",\n        \"std\": 0,\n        \"min\": 0,\n        \"max\": 1,\n        \"num_unique_values\": 2,\n        \"samples\": [\n          1,\n          0\n        ],\n        \"semantic_type\": \"\",\n        \"description\": \"\"\n      }\n    }\n  ]\n}"
            }
          },
          "metadata": {},
          "execution_count": 29
        }
      ]
    },
    {
      "cell_type": "code",
      "source": [
        "df['domain_name'] = df['domain_name'].replace({'www.huffingtonpost.comhttp:': 'www.huffingtonpost.com', 'www.huffingtonpost.comhttps:': 'www.huffingtonpost.com'})\n",
        "df['domain_name'].unique()"
      ],
      "metadata": {
        "colab": {
          "base_uri": "https://localhost:8080/"
        },
        "id": "RLXOBvhtonP7",
        "outputId": "be6ac6c3-6107-4bf8-83e7-2ed5b7f60167"
      },
      "execution_count": null,
      "outputs": [
        {
          "output_type": "execute_result",
          "data": {
            "text/plain": [
              "array(['www.huffingtonpost.com', 'local.theonion.com',\n",
              "       'politics.theonion.com', 'entertainment.theonion.com',\n",
              "       'www.theonion.com', 'sports.theonion.com'], dtype=object)"
            ]
          },
          "metadata": {},
          "execution_count": 30
        }
      ]
    },
    {
      "cell_type": "markdown",
      "source": [
        "Even though there are 6 unique domain names, all the articles can be classified either as a huffingtonpost article or the onion article"
      ],
      "metadata": {
        "id": "Rw_-PtMVKdpx"
      }
    },
    {
      "cell_type": "code",
      "source": [
        "df['domain_name'] = df['domain_name'].replace({\n",
        "    'local.theonion.com': 'theonion',\n",
        "    'politics.theonion.com': 'theonion',\n",
        "    'entertainment.theonion.com': 'theonion',\n",
        "    'sports.theonion.com': 'theonion',\n",
        "    'www.theonion.com': 'theonion',\n",
        "    'www.huffingtonpost.com': 'huffingtonpost'\n",
        "})\n",
        "\n",
        "df['domain_name'].unique()"
      ],
      "metadata": {
        "colab": {
          "base_uri": "https://localhost:8080/"
        },
        "id": "g-xIFdkTopv1",
        "outputId": "35ceef45-65f4-4b34-fbf2-28148249f7a5"
      },
      "execution_count": null,
      "outputs": [
        {
          "output_type": "execute_result",
          "data": {
            "text/plain": [
              "array(['huffingtonpost', 'theonion'], dtype=object)"
            ]
          },
          "metadata": {},
          "execution_count": 31
        }
      ]
    },
    {
      "cell_type": "markdown",
      "source": [
        "We will drop the article link since we got the domain name. The headline will give us more than enough information."
      ],
      "metadata": {
        "id": "rGXflD_wKv3O"
      }
    },
    {
      "cell_type": "code",
      "source": [
        "df.drop('article_link', axis = 1, inplace = True)"
      ],
      "metadata": {
        "id": "PE6iFezGovpA"
      },
      "execution_count": null,
      "outputs": []
    },
    {
      "cell_type": "markdown",
      "source": [
        "We will observe the correlation between the domain name and the article's measure of sarcasm."
      ],
      "metadata": {
        "id": "nvMBI44aK7mM"
      }
    },
    {
      "cell_type": "code",
      "source": [
        "plt.scatter(df['domain_name'], df['is_sarcastic'])\n",
        "plt.show()"
      ],
      "metadata": {
        "colab": {
          "base_uri": "https://localhost:8080/",
          "height": 430
        },
        "id": "UMXWUhq1ox8x",
        "outputId": "f7cf78e0-dbdc-4c83-cb8f-0f35c0c03963"
      },
      "execution_count": null,
      "outputs": [
        {
          "output_type": "display_data",
          "data": {
            "text/plain": [
              "<Figure size 640x480 with 1 Axes>"
            ],
            "image/png": "[encoded data removed]"
          },
          "metadata": {}
        }
      ]
    },
    {
      "cell_type": "markdown",
      "source": [
        "We can observe that all the huffingtonpost articles are non-sarcastic and all theonion articles are sarcastic (this is also mentioned in the dataset. So, technically we can achieve 100% accuracy without even using an LSTM. But where is the fun in that?\n",
        "\n",
        "Moreover what we are trying to do is to build a model that is able to sense sarcasm irrespective of the content being theonion article or the huffingtonpost article.\n",
        "\n",
        "Let us check for any duplicate entries and remove them."
      ],
      "metadata": {
        "id": "BIXvtGjHLKG6"
      }
    },
    {
      "cell_type": "code",
      "source": [
        "len(df['headline'].unique()) == len(df['headline'])"
      ],
      "metadata": {
        "colab": {
          "base_uri": "https://localhost:8080/"
        },
        "id": "M5bglEj8o2c9",
        "outputId": "589cf6e9-1fc5-448e-bf65-2a2abf6c89eb"
      },
      "execution_count": null,
      "outputs": [
        {
          "output_type": "execute_result",
          "data": {
            "text/plain": [
              "False"
            ]
          },
          "metadata": {},
          "execution_count": 34
        }
      ]
    },
    {
      "cell_type": "code",
      "source": [
        "df[df.duplicated(subset=['headline'], keep=False)]"
      ],
      "metadata": {
        "colab": {
          "base_uri": "https://localhost:8080/",
          "height": 424
        },
        "id": "kuI4mxY8o4y6",
        "outputId": "151c9e2d-6230-4099-ae33-b1aef8bd0068"
      },
      "execution_count": null,
      "outputs": [
        {
          "output_type": "execute_result",
          "data": {
            "text/plain": [
              "                                                headline     domain_name  \\\n",
              "182    magic-markered initials fail to deter breakroo...        theonion   \n",
              "533    antarctic observational comic running out of i...        theonion   \n",
              "1019   the best chance to defeat roy moore may be for...  huffingtonpost   \n",
              "1091   antarctic observational comic running out of i...        theonion   \n",
              "1131   pier 1 issues formal apology for rattan death ...        theonion   \n",
              "...                                                  ...             ...   \n",
              "26121  'no way to prevent this,' says only nation whe...        theonion   \n",
              "26156      area man busts his ass all day, and for what?        theonion   \n",
              "26353                   kleenex box inadequately covered        theonion   \n",
              "26500  candy purchase puts yet more money in raisinet...        theonion   \n",
              "26615                      the conundrum of the midterms  huffingtonpost   \n",
              "\n",
              "       is_sarcastic  \n",
              "182               1  \n",
              "533               1  \n",
              "1019              0  \n",
              "1091              1  \n",
              "1131              1  \n",
              "...             ...  \n",
              "26121             1  \n",
              "26156             1  \n",
              "26353             1  \n",
              "26500             1  \n",
              "26615             0  \n",
              "\n",
              "[185 rows x 3 columns]"
            ],
            "text/html": [
              "\n",
              "  <div id=\"df-566b234d-880c-45a3-aac2-42a32cea5490\" class=\"colab-df-container\">\n",
              "    <div>\n",
              "<style scoped>\n",
              "    .dataframe tbody tr th:only-of-type {\n",
              "        vertical-align: middle;\n",
              "    }\n",
              "\n",
              "    .dataframe tbody tr th {\n",
              "        vertical-align: top;\n",
              "    }\n",
              "\n",
              "    .dataframe thead th {\n",
              "        text-align: right;\n",
              "    }\n",
              "</style>\n",
              "<table border=\"1\" class=\"dataframe\">\n",
              "  <thead>\n",
              "    <tr style=\"text-align: right;\">\n",
              "      <th></th>\n",
              "      <th>headline</th>\n",
              "      <th>domain_name</th>\n",
              "      <th>is_sarcastic</th>\n",
              "    </tr>\n",
              "  </thead>\n",
              "  <tbody>\n",
              "    <tr>\n",
              "      <th>182</th>\n",
              "      <td>magic-markered initials fail to deter breakroo...</td>\n",
              "      <td>theonion</td>\n",
              "      <td>1</td>\n",
              "    </tr>\n",
              "    <tr>\n",
              "      <th>533</th>\n",
              "      <td>antarctic observational comic running out of i...</td>\n",
              "      <td>theonion</td>\n",
              "      <td>1</td>\n",
              "    </tr>\n",
              "    <tr>\n",
              "      <th>1019</th>\n",
              "      <td>the best chance to defeat roy moore may be for...</td>\n",
              "      <td>huffingtonpost</td>\n",
              "      <td>0</td>\n",
              "    </tr>\n",
              "    <tr>\n",
              "      <th>1091</th>\n",
              "      <td>antarctic observational comic running out of i...</td>\n",
              "      <td>theonion</td>\n",
              "      <td>1</td>\n",
              "    </tr>\n",
              "    <tr>\n",
              "      <th>1131</th>\n",
              "      <td>pier 1 issues formal apology for rattan death ...</td>\n",
              "      <td>theonion</td>\n",
              "      <td>1</td>\n",
              "    </tr>\n",
              "    <tr>\n",
              "      <th>...</th>\n",
              "      <td>...</td>\n",
              "      <td>...</td>\n",
              "      <td>...</td>\n",
              "    </tr>\n",
              "    <tr>\n",
              "      <th>26121</th>\n",
              "      <td>'no way to prevent this,' says only nation whe...</td>\n",
              "      <td>theonion</td>\n",
              "      <td>1</td>\n",
              "    </tr>\n",
              "    <tr>\n",
              "      <th>26156</th>\n",
              "      <td>area man busts his ass all day, and for what?</td>\n",
              "      <td>theonion</td>\n",
              "      <td>1</td>\n",
              "    </tr>\n",
              "    <tr>\n",
              "      <th>26353</th>\n",
              "      <td>kleenex box inadequately covered</td>\n",
              "      <td>theonion</td>\n",
              "      <td>1</td>\n",
              "    </tr>\n",
              "    <tr>\n",
              "      <th>26500</th>\n",
              "      <td>candy purchase puts yet more money in raisinet...</td>\n",
              "      <td>theonion</td>\n",
              "      <td>1</td>\n",
              "    </tr>\n",
              "    <tr>\n",
              "      <th>26615</th>\n",
              "      <td>the conundrum of the midterms</td>\n",
              "      <td>huffingtonpost</td>\n",
              "      <td>0</td>\n",
              "    </tr>\n",
              "  </tbody>\n",
              "</table>\n",
              "<p>185 rows × 3 columns</p>\n",
              "</div>\n",
              "    <div class=\"colab-df-buttons\">\n",
              "\n",
              "  <div class=\"colab-df-container\">\n",
              "    <button class=\"colab-df-convert\" onclick=\"convertToInteractive('df-566b234d-880c-45a3-aac2-42a32cea5490')\"\n",
              "            title=\"Convert this dataframe to an interactive table.\"\n",
              "            style=\"display:none;\">\n",
              "\n",
              "  <svg xmlns=\"http://www.w3.org/2000/svg\" height=\"24px\" viewBox=\"0 -960 960 960\">\n",
              "    <path d=\"M120-120v-720h720v720H120Zm60-500h600v-160H180v160Zm220 220h160v-160H400v160Zm0 220h160v-160H400v160ZM180-400h160v-160H180v160Zm440 0h160v-160H620v160ZM180-180h160v-160H180v160Zm440 0h160v-160H620v160Z\"/>\n",
              "  </svg>\n",
              "    </button>\n",
              "\n",
              "  <style>\n",
              "    .colab-df-container {\n",
              "      display:flex;\n",
              "      gap: 12px;\n",
              "    }\n",
              "\n",
              "    .colab-df-convert {\n",
              "      background-color: #E8F0FE;\n",
              "      border: none;\n",
              "      border-radius: 50%;\n",
              "      cursor: pointer;\n",
              "      display: none;\n",
              "      fill: #1967D2;\n",
              "      height: 32px;\n",
              "      padding: 0 0 0 0;\n",
              "      width: 32px;\n",
              "    }\n",
              "\n",
              "    .colab-df-convert:hover {\n",
              "      background-color: #E2EBFA;\n",
              "      box-shadow: 0px 1px 2px rgba(60, 64, 67, 0.3), 0px 1px 3px 1px rgba(60, 64, 67, 0.15);\n",
              "      fill: #174EA6;\n",
              "    }\n",
              "\n",
              "    .colab-df-buttons div {\n",
              "      margin-bottom: 4px;\n",
              "    }\n",
              "\n",
              "    [theme=dark] .colab-df-convert {\n",
              "      background-color: #3B4455;\n",
              "      fill: #D2E3FC;\n",
              "    }\n",
              "\n",
              "    [theme=dark] .colab-df-convert:hover {\n",
              "      background-color: #434B5C;\n",
              "      box-shadow: 0px 1px 3px 1px rgba(0, 0, 0, 0.15);\n",
              "      filter: drop-shadow(0px 1px 2px rgba(0, 0, 0, 0.3));\n",
              "      fill: #FFFFFF;\n",
              "    }\n",
              "  </style>\n",
              "\n",
              "    <script>\n",
              "      const buttonEl =\n",
              "        document.querySelector('#df-566b234d-880c-45a3-aac2-42a32cea5490 button.colab-df-convert');\n",
              "      buttonEl.style.display =\n",
              "        google.colab.kernel.accessAllowed ? 'block' : 'none';\n",
              "\n",
              "      async function convertToInteractive(key) {\n",
              "        const element = document.querySelector('#df-566b234d-880c-45a3-aac2-42a32cea5490');\n",
              "        const dataTable =\n",
              "          await google.colab.kernel.invokeFunction('convertToInteractive',\n",
              "                                                    [key], {});\n",
              "        if (!dataTable) return;\n",
              "\n",
              "        const docLinkHtml = 'Like what you see? Visit the ' +\n",
              "          '<a target=\"_blank\" href=https://colab.research.google.com/notebooks/data_table.ipynb>data table notebook</a>'\n",
              "          + ' to learn more about interactive tables.';\n",
              "        element.innerHTML = '';\n",
              "        dataTable['output_type'] = 'display_data';\n",
              "        await google.colab.output.renderOutput(dataTable, element);\n",
              "        const docLink = document.createElement('div');\n",
              "        docLink.innerHTML = docLinkHtml;\n",
              "        element.appendChild(docLink);\n",
              "      }\n",
              "    </script>\n",
              "  </div>\n",
              "\n",
              "\n",
              "<div id=\"df-3facc570-b27f-4b4f-a7fe-61c58ed47d1b\">\n",
              "  <button class=\"colab-df-quickchart\" onclick=\"quickchart('df-3facc570-b27f-4b4f-a7fe-61c58ed47d1b')\"\n",
              "            title=\"Suggest charts\"\n",
              "            style=\"display:none;\">\n",
              "\n",
              "<svg xmlns=\"http://www.w3.org/2000/svg\" height=\"24px\"viewBox=\"0 0 24 24\"\n",
              "     width=\"24px\">\n",
              "    <g>\n",
              "        <path d=\"M19 3H5c-1.1 0-2 .9-2 2v14c0 1.1.9 2 2 2h14c1.1 0 2-.9 2-2V5c0-1.1-.9-2-2-2zM9 17H7v-7h2v7zm4 0h-2V7h2v10zm4 0h-2v-4h2v4z\"/>\n",
              "    </g>\n",
              "</svg>\n",
              "  </button>\n",
              "\n",
              "<style>\n",
              "  .colab-df-quickchart {\n",
              "      --bg-color: #E8F0FE;\n",
              "      --fill-color: #1967D2;\n",
              "      --hover-bg-color: #E2EBFA;\n",
              "      --hover-fill-color: #174EA6;\n",
              "      --disabled-fill-color: #AAA;\n",
              "      --disabled-bg-color: #DDD;\n",
              "  }\n",
              "\n",
              "  [theme=dark] .colab-df-quickchart {\n",
              "      --bg-color: #3B4455;\n",
              "      --fill-color: #D2E3FC;\n",
              "      --hover-bg-color: #434B5C;\n",
              "      --hover-fill-color: #FFFFFF;\n",
              "      --disabled-bg-color: #3B4455;\n",
              "      --disabled-fill-color: #666;\n",
              "  }\n",
              "\n",
              "  .colab-df-quickchart {\n",
              "    background-color: var(--bg-color);\n",
              "    border: none;\n",
              "    border-radius: 50%;\n",
              "    cursor: pointer;\n",
              "    display: none;\n",
              "    fill: var(--fill-color);\n",
              "    height: 32px;\n",
              "    padding: 0;\n",
              "    width: 32px;\n",
              "  }\n",
              "\n",
              "  .colab-df-quickchart:hover {\n",
              "    background-color: var(--hover-bg-color);\n",
              "    box-shadow: 0 1px 2px rgba(60, 64, 67, 0.3), 0 1px 3px 1px rgba(60, 64, 67, 0.15);\n",
              "    fill: var(--button-hover-fill-color);\n",
              "  }\n",
              "\n",
              "  .colab-df-quickchart-complete:disabled,\n",
              "  .colab-df-quickchart-complete:disabled:hover {\n",
              "    background-color: var(--disabled-bg-color);\n",
              "    fill: var(--disabled-fill-color);\n",
              "    box-shadow: none;\n",
              "  }\n",
              "\n",
              "  .colab-df-spinner {\n",
              "    border: 2px solid var(--fill-color);\n",
              "    border-color: transparent;\n",
              "    border-bottom-color: var(--fill-color);\n",
              "    animation:\n",
              "      spin 1s steps(1) infinite;\n",
              "  }\n",
              "\n",
              "  @keyframes spin {\n",
              "    0% {\n",
              "      border-color: transparent;\n",
              "      border-bottom-color: var(--fill-color);\n",
              "      border-left-color: var(--fill-color);\n",
              "    }\n",
              "    20% {\n",
              "      border-color: transparent;\n",
              "      border-left-color: var(--fill-color);\n",
              "      border-top-color: var(--fill-color);\n",
              "    }\n",
              "    30% {\n",
              "      border-color: transparent;\n",
              "      border-left-color: var(--fill-color);\n",
              "      border-top-color: var(--fill-color);\n",
              "      border-right-color: var(--fill-color);\n",
              "    }\n",
              "    40% {\n",
              "      border-color: transparent;\n",
              "      border-right-color: var(--fill-color);\n",
              "      border-top-color: var(--fill-color);\n",
              "    }\n",
              "    60% {\n",
              "      border-color: transparent;\n",
              "      border-right-color: var(--fill-color);\n",
              "    }\n",
              "    80% {\n",
              "      border-color: transparent;\n",
              "      border-right-color: var(--fill-color);\n",
              "      border-bottom-color: var(--fill-color);\n",
              "    }\n",
              "    90% {\n",
              "      border-color: transparent;\n",
              "      border-bottom-color: var(--fill-color);\n",
              "    }\n",
              "  }\n",
              "</style>\n",
              "\n",
              "  <script>\n",
              "    async function quickchart(key) {\n",
              "      const quickchartButtonEl =\n",
              "        document.querySelector('#' + key + ' button');\n",
              "      quickchartButtonEl.disabled = true;  // To prevent multiple clicks.\n",
              "      quickchartButtonEl.classList.add('colab-df-spinner');\n",
              "      try {\n",
              "        const charts = await google.colab.kernel.invokeFunction(\n",
              "            'suggestCharts', [key], {});\n",
              "      } catch (error) {\n",
              "        console.error('Error during call to suggestCharts:', error);\n",
              "      }\n",
              "      quickchartButtonEl.classList.remove('colab-df-spinner');\n",
              "      quickchartButtonEl.classList.add('colab-df-quickchart-complete');\n",
              "    }\n",
              "    (() => {\n",
              "      let quickchartButtonEl =\n",
              "        document.querySelector('#df-3facc570-b27f-4b4f-a7fe-61c58ed47d1b button');\n",
              "      quickchartButtonEl.style.display =\n",
              "        google.colab.kernel.accessAllowed ? 'block' : 'none';\n",
              "    })();\n",
              "  </script>\n",
              "</div>\n",
              "\n",
              "    </div>\n",
              "  </div>\n"
            ],
            "application/vnd.google.colaboratory.intrinsic+json": {
              "type": "dataframe",
              "summary": "{\n  \"name\": \"df[df\",\n  \"rows\": 185,\n  \"fields\": [\n    {\n      \"column\": \"headline\",\n      \"properties\": {\n        \"dtype\": \"category\",\n        \"num_unique_values\": 78,\n        \"samples\": [\n          \"area man likes food\",\n          \"magic-markered initials fail to deter breakroom rice-cake thief\",\n          \"systems administrator would so fuck new trainee\"\n        ],\n        \"semantic_type\": \"\",\n        \"description\": \"\"\n      }\n    },\n    {\n      \"column\": \"domain_name\",\n      \"properties\": {\n        \"dtype\": \"category\",\n        \"num_unique_values\": 2,\n        \"samples\": [\n          \"huffingtonpost\",\n          \"theonion\"\n        ],\n        \"semantic_type\": \"\",\n        \"description\": \"\"\n      }\n    },\n    {\n      \"column\": \"is_sarcastic\",\n      \"properties\": {\n        \"dtype\": \"number\",\n        \"std\": 0,\n        \"min\": 0,\n        \"max\": 1,\n        \"num_unique_values\": 2,\n        \"samples\": [\n          0,\n          1\n        ],\n        \"semantic_type\": \"\",\n        \"description\": \"\"\n      }\n    }\n  ]\n}"
            }
          },
          "metadata": {},
          "execution_count": 35
        }
      ]
    },
    {
      "cell_type": "code",
      "source": [
        "df = df.drop_duplicates(subset=['headline'])"
      ],
      "metadata": {
        "id": "dfap4WLSo5XJ"
      },
      "execution_count": null,
      "outputs": []
    },
    {
      "cell_type": "markdown",
      "source": [
        "## Building the Dataset and the Model"
      ],
      "metadata": {
        "id": "t__qw38dOYL9"
      }
    },
    {
      "cell_type": "markdown",
      "source": [
        "First, we declare the device."
      ],
      "metadata": {
        "id": "MbM79EJIOhnd"
      }
    },
    {
      "cell_type": "code",
      "source": [
        "device = \"cuda\" if torch.cuda.is_available() else \"cpu\""
      ],
      "metadata": {
        "id": "jFwWSyVwpIoY"
      },
      "execution_count": null,
      "outputs": []
    },
    {
      "cell_type": "markdown",
      "source": [
        "Then, we intialize the Bert Model and Tokenizer that we will use to extract the word embeddings."
      ],
      "metadata": {
        "id": "QU8dHcfCOm1T"
      }
    },
    {
      "cell_type": "code",
      "source": [
        "tokenizer = BertTokenizer.from_pretrained('bert-base-uncased')\n",
        "model = BertModel.from_pretrained(\"bert-base-uncased\").to(device)"
      ],
      "metadata": {
        "id": "OexiwOc7pD4_"
      },
      "execution_count": null,
      "outputs": []
    },
    {
      "cell_type": "markdown",
      "source": [
        "These are some standard variable and hyperparameters which will come into use as we will see."
      ],
      "metadata": {
        "id": "QS_U7hWEOw3i"
      }
    },
    {
      "cell_type": "code",
      "source": [
        "MAX_LEN = 128\n",
        "LEARNING_RATE = 3e-05\n",
        "TRAIN_BATCH_SIZE = 32\n",
        "VALID_BATCH_SIZE = 8\n",
        "EPOCHS = 6"
      ],
      "metadata": {
        "id": "kp9aXM9rpKmu"
      },
      "execution_count": null,
      "outputs": []
    },
    {
      "cell_type": "markdown",
      "source": [
        "Then, we construct our CustomDataset class which would handle our embedding generation and the batching of training examples."
      ],
      "metadata": {
        "id": "ih4wIfbgPrKQ"
      }
    },
    {
      "cell_type": "code",
      "source": [
        "class CustomDataset(Dataset):\n",
        "    def __init__(self, df, max_len, tokenizer, model, device):\n",
        "        self.data = df\n",
        "        self.text = self.data.headline\n",
        "        self.targets = self.data.is_sarcastic\n",
        "        self.max_len = max_len\n",
        "        self.tokenizer = tokenizer\n",
        "        self.model = model\n",
        "        self.device = device\n",
        "\n",
        "    def __len__(self):\n",
        "        return len(self.targets)\n",
        "\n",
        "    def __getitem__(self, idx):\n",
        "        text = str(self.text[idx])\n",
        "\n",
        "        inputs = self.tokenizer.encode_plus(\n",
        "            text,\n",
        "            None,\n",
        "            add_special_tokens=True,\n",
        "            max_length=self.max_len,\n",
        "            padding='max_length',\n",
        "            truncation=True,\n",
        "            return_tensors='pt'\n",
        "        )\n",
        "\n",
        "        input_ids = inputs['input_ids'].squeeze(0).to(self.device)  # Move to device\n",
        "        attention_mask = inputs['attention_mask'].squeeze(0).to(self.device)  # Move to device\n",
        "\n",
        "        with torch.no_grad():\n",
        "            outputs = self.model(input_ids=input_ids.unsqueeze(0), attention_mask=attention_mask.unsqueeze(0))\n",
        "\n",
        "        embedding = outputs.last_hidden_state.squeeze(0).to(self.device)  # Move to device\n",
        "\n",
        "        return {\n",
        "            \"embedding\": embedding,\n",
        "            \"targets\": torch.tensor(self.targets[idx], dtype=torch.float).to(self.device)  # Move to device\n",
        "        }"
      ],
      "metadata": {
        "id": "XsghYeuOpM5t"
      },
      "execution_count": null,
      "outputs": []
    },
    {
      "cell_type": "markdown",
      "source": [
        "We split the dataset into training and testing."
      ],
      "metadata": {
        "id": "m3A5gvUyQFf2"
      }
    },
    {
      "cell_type": "code",
      "source": [
        "train_size = 0.8\n",
        "train_dataset = df.sample(frac=train_size, random_state=42)\n",
        "test_dataset = df.drop(train_dataset.index).reset_index(drop=True)\n",
        "train_dataset = train_dataset.reset_index(drop=True)"
      ],
      "metadata": {
        "id": "4mTogV19pQNr"
      },
      "execution_count": null,
      "outputs": []
    },
    {
      "cell_type": "code",
      "source": [
        "training_set = CustomDataset(train_dataset, MAX_LEN, tokenizer=tokenizer, model=model, device=device)\n",
        "testing_set = CustomDataset(test_dataset, MAX_LEN, tokenizer=tokenizer, model=model,device=device)"
      ],
      "metadata": {
        "id": "qFl_DSCbpSbw"
      },
      "execution_count": null,
      "outputs": []
    },
    {
      "cell_type": "code",
      "source": [
        "training_loader = DataLoader(training_set, batch_size=TRAIN_BATCH_SIZE, shuffle = True)\n",
        "test_loader = DataLoader(testing_set, batch_size=VALID_BATCH_SIZE, shuffle=True)"
      ],
      "metadata": {
        "id": "qB-v_nYBpUOj"
      },
      "execution_count": null,
      "outputs": []
    },
    {
      "cell_type": "markdown",
      "source": [
        "Our model is going to consist of a stacked bi-directional LSTM. The parameters like dropout of the LSTM and its hidden size can be experimented on. These are the values I found worked the best. (In all honesty, there could be better values for the parameters, but I don't think that will affect the model significantly.)"
      ],
      "metadata": {
        "id": "vtOPNzqmQmRp"
      }
    },
    {
      "cell_type": "code",
      "source": [
        "class CustomModel(nn.Module):\n",
        "    def __init__(self, hidden_size, input_size):\n",
        "        super(CustomModel, self).__init__()\n",
        "        self.layer1 = nn.LSTM(input_size=input_size, hidden_size=hidden_size, num_layers=2, dropout=0.2, bidirectional=True)\n",
        "        #self.dropout = nn.Dropout(0.3)   #From my observations, I don't think the dropout layer improves the model's performance\n",
        "        self.layer2 = nn.Linear(hidden_size*2, 1)\n",
        "        self.layer3 = nn.Sigmoid()\n",
        "\n",
        "    def forward(self, x):\n",
        "        output, (h_n, c_n) = self.layer1(x)\n",
        "        output = output[:, -1, :]\n",
        "        #output = self.dropout(output)\n",
        "        return self.layer3(self.layer2(output))"
      ],
      "metadata": {
        "id": "AsWyCag0pWOE"
      },
      "execution_count": null,
      "outputs": []
    },
    {
      "cell_type": "code",
      "source": [
        "SeqModel = CustomModel(256, 768)\n",
        "SeqModel.to(device)"
      ],
      "metadata": {
        "colab": {
          "base_uri": "https://localhost:8080/"
        },
        "id": "SkhTzAOzpYxl",
        "outputId": "249e3a9b-5049-477e-aeea-e87fca889958"
      },
      "execution_count": null,
      "outputs": [
        {
          "output_type": "execute_result",
          "data": {
            "text/plain": [
              "CustomModel(\n",
              "  (layer1): LSTM(768, 256, num_layers=2, dropout=0.2, bidirectional=True)\n",
              "  (layer2): Linear(in_features=512, out_features=1, bias=True)\n",
              "  (layer3): Sigmoid()\n",
              ")"
            ]
          },
          "metadata": {},
          "execution_count": 45
        }
      ]
    },
    {
      "cell_type": "markdown",
      "source": [
        "## The Training and Testing Process"
      ],
      "metadata": {
        "id": "K0fyvuF1RGMX"
      }
    },
    {
      "cell_type": "markdown",
      "source": [
        "Just a little sidenote. Since, I am still a beginner, one (silly) mistake that I made was to use BCEWithLogitsLoss() instead of BCELoss() as the loss function. As the model didn't learn very well, I realised my mistake and used the correct function. This [StackOverflow](https://stackoverflow.com/questions/75979632/pytorchs-nn-bcewithlogitsloss-behaves-totaly-differently-than-nn-bceloss) post explains the difference."
      ],
      "metadata": {
        "id": "_Xsf5KKDRK68"
      }
    },
    {
      "cell_type": "code",
      "source": [
        "optimizer = torch.optim.AdamW(params=SeqModel.parameters(), lr=LEARNING_RATE)\n",
        "lossfn = nn.BCELoss()"
      ],
      "metadata": {
        "id": "BKJTuV-ypbE4"
      },
      "execution_count": null,
      "outputs": []
    },
    {
      "cell_type": "code",
      "source": [
        "losses = []\n",
        "\n",
        "def training(train_loader, modl, epoch):\n",
        "    modl.train()\n",
        "    total_loss = 0\n",
        "\n",
        "    for i, batch in enumerate(train_loader):\n",
        "        embed = batch['embedding'].to(device)\n",
        "        target = batch['targets'].to(device)\n",
        "\n",
        "        preds = modl(embed)\n",
        "        preds = preds.squeeze(-1)\n",
        "        loss = lossfn(preds, target)\n",
        "\n",
        "        total_loss += loss.item()\n",
        "        losses.append(loss.item())\n",
        "\n",
        "        optimizer.zero_grad()\n",
        "        loss.backward()\n",
        "        optimizer.step()\n",
        "        if i % 100 == 0:\n",
        "          print(f\"Epoch: {epoch}, loss: {loss:.4f}\")\n",
        "\n",
        "    avg_loss = total_loss / len(train_loader)\n",
        "    print(f\"Average training loss: {avg_loss:.4f}\")"
      ],
      "metadata": {
        "id": "qd-Tcov6pdLj"
      },
      "execution_count": null,
      "outputs": []
    },
    {
      "cell_type": "code",
      "source": [
        "for epoch in range(EPOCHS):\n",
        "  training(training_loader, SeqModel, epoch)"
      ],
      "metadata": {
        "colab": {
          "base_uri": "https://localhost:8080/"
        },
        "id": "o7-UO_OxqMax",
        "outputId": "cdc646df-a401-4c42-d0ce-9725c949c30a"
      },
      "execution_count": null,
      "outputs": [
        {
          "output_type": "stream",
          "name": "stdout",
          "text": [
            "Epoch: 0, loss: 0.6948\n",
            "Epoch: 0, loss: 0.6863\n",
            "Epoch: 0, loss: 0.6465\n",
            "Epoch: 0, loss: 0.6090\n",
            "Epoch: 0, loss: 0.5239\n",
            "Epoch: 0, loss: 0.4372\n",
            "Epoch: 0, loss: 0.4181\n",
            "Average training loss: 0.5798\n",
            "Epoch: 1, loss: 0.4909\n",
            "Epoch: 1, loss: 0.3974\n",
            "Epoch: 1, loss: 0.5947\n",
            "Epoch: 1, loss: 0.3608\n",
            "Epoch: 1, loss: 0.5129\n",
            "Epoch: 1, loss: 0.5600\n",
            "Epoch: 1, loss: 0.4031\n",
            "Average training loss: 0.4205\n",
            "Epoch: 2, loss: 0.3721\n",
            "Epoch: 2, loss: 0.3910\n",
            "Epoch: 2, loss: 0.3470\n",
            "Epoch: 2, loss: 0.3464\n",
            "Epoch: 2, loss: 0.3145\n",
            "Epoch: 2, loss: 0.3929\n",
            "Epoch: 2, loss: 0.3986\n",
            "Average training loss: 0.3875\n",
            "Epoch: 3, loss: 0.5895\n",
            "Epoch: 3, loss: 0.3706\n",
            "Epoch: 3, loss: 0.3916\n",
            "Epoch: 3, loss: 0.4057\n",
            "Epoch: 3, loss: 0.4538\n",
            "Epoch: 3, loss: 0.3276\n",
            "Epoch: 3, loss: 0.5742\n",
            "Average training loss: 0.3710\n",
            "Epoch: 4, loss: 0.3701\n",
            "Epoch: 4, loss: 0.3389\n",
            "Epoch: 4, loss: 0.2854\n",
            "Epoch: 4, loss: 0.3270\n",
            "Epoch: 4, loss: 0.4494\n",
            "Epoch: 4, loss: 0.3013\n",
            "Epoch: 4, loss: 0.2489\n",
            "Average training loss: 0.3581\n",
            "Epoch: 5, loss: 0.4241\n",
            "Epoch: 5, loss: 0.4375\n",
            "Epoch: 5, loss: 0.3648\n",
            "Epoch: 5, loss: 0.4575\n",
            "Epoch: 5, loss: 0.2140\n",
            "Epoch: 5, loss: 0.2378\n",
            "Epoch: 5, loss: 0.2073\n",
            "Average training loss: 0.3482\n"
          ]
        }
      ]
    },
    {
      "cell_type": "markdown",
      "source": [
        "Let us plot the training curve. NOTE: The training curve when plotted all the losses just looked like a mess hence I am taking in the interval of 500 examples"
      ],
      "metadata": {
        "id": "vvBjZ22cR6_D"
      }
    },
    {
      "cell_type": "code",
      "source": [
        "lst = [(i, sum(losses[i-500:i])/500) for i in range(1, len(losses)) if i % 500 == 0]\n",
        "plt.plot([i for (i, j) in lst], [j for (i, j) in lst])\n",
        "plt.show()"
      ],
      "metadata": {
        "id": "f0DooSGrqtDR",
        "colab": {
          "base_uri": "https://localhost:8080/",
          "height": 430
        },
        "outputId": "3f053a17-2bb2-4e6d-94f1-352f055a3d2e"
      },
      "execution_count": null,
      "outputs": [
        {
          "output_type": "display_data",
          "data": {
            "text/plain": [
              "<Figure size 640x480 with 1 Axes>"
            ],
            "image/png": "[encoded data removed]"
          },
          "metadata": {}
        }
      ]
    },
    {
      "cell_type": "code",
      "source": [
        "from sklearn.metrics import accuracy_score, precision_score, recall_score, f1_score"
      ],
      "metadata": {
        "id": "Dd9fxq_FKlNx"
      },
      "execution_count": null,
      "outputs": []
    },
    {
      "cell_type": "code",
      "source": [
        "def testing(test_loader, modl):\n",
        "    model.eval()\n",
        "    all_labels = []\n",
        "    all_preds = []\n",
        "\n",
        "    with torch.no_grad():\n",
        "        for batch in test_loader:\n",
        "            embeddings = batch['embedding'].to(device)\n",
        "            labels = batch['targets'].to(device)\n",
        "\n",
        "            outputs = modl(embeddings)\n",
        "            outputs = outputs.squeeze(-1)\n",
        "\n",
        "            preds = (outputs > 0.5).float()\n",
        "\n",
        "            all_labels.extend(labels.cpu().numpy())\n",
        "            all_preds.extend(preds.cpu().numpy())\n",
        "\n",
        "    return all_labels, all_preds"
      ],
      "metadata": {
        "id": "mqAD5LTfJ4E2"
      },
      "execution_count": null,
      "outputs": []
    },
    {
      "cell_type": "code",
      "source": [
        "all_labels, all_preds = testing(test_loader, SeqModel)\n",
        "\n",
        "# Calculate metrics\n",
        "accuracy = accuracy_score(all_labels, all_preds)\n",
        "precision = precision_score(all_labels, all_preds)\n",
        "recall = recall_score(all_labels, all_preds)\n",
        "f1 = f1_score(all_labels, all_preds)\n",
        "\n",
        "print(f\"Accuracy: {accuracy:.4f}\")\n",
        "print(f\"Precision: {precision:.4f}\")\n",
        "print(f\"Recall: {recall:.4f}\")\n",
        "print(f\"F1 Score: {f1:.4f}\")"
      ],
      "metadata": {
        "id": "i9OgjEDAKpGa",
        "colab": {
          "base_uri": "https://localhost:8080/"
        },
        "outputId": "7e367161-4466-495f-e8e8-6f7706e8b643"
      },
      "execution_count": null,
      "outputs": [
        {
          "output_type": "stream",
          "name": "stdout",
          "text": [
            "Accuracy: 0.8517\n",
            "Precision: 0.8330\n",
            "Recall: 0.8188\n",
            "F1 Score: 0.8259\n"
          ]
        }
      ]
    },
    {
      "cell_type": "markdown",
      "source": [
        "These are pretty good metrics overall."
      ],
      "metadata": {
        "id": "LRq8AqwSSYsr"
      }
    },
    {
      "cell_type": "markdown",
      "source": [
        "## LSTM: Long-Short Term Memory\n",
        "\n",
        "To understand LSTMs, you must know about RNNs, after all LSTM is a type of RNN. A problem with vanilla-RNN is the vanishing gradients problem. This resulted in the RNN not able perform well on tasks that would require to take into consideration certain parameters on the long-term.\n",
        "\n",
        "To be able to selectively, keep a certain piece of information in the \"long\" term and in the \"short\" term is the key feature of an LSTM. The LSTM cell acieves this using three types of gate:- forget, input, and output. Each LSTM cell has a hidden state along with the cell memory."
      ],
      "metadata": {
        "id": "VTGJGpHsp75F"
      }
    },
    {
      "cell_type": "markdown",
      "source": [
        "### Forget Gate\n",
        "\n",
        "The forget gate aids in deciding \"how much\" of a piece of information from the past should be remembered. So, from this definition, we get the idea of product (more specifically Hadamard product in this case), of a quantity with another quantity from the previous time step. What is the former quantity? The former quantity in question is $f_{(t)}$ (the latter quantity being, the past cell memory, $c_{(t-1)}$) and its dependence is discussed below. P.S. the product contributes to the cell memory, $c_{(t)}$."
      ],
      "metadata": {
        "id": "S24Tr9CdFfof"
      }
    },
    {
      "cell_type": "markdown",
      "source": [
        "We can see that the quantity given out by the forget gate, $f_{(t)}$, depends on the input, $x_{(t)}$ and the hidden state of the cell in the previous iteration, $h_{(t-1)}$. The relation is given as follows:-\n",
        "$$ f_{(t)} = \\sigma(U^{(f)}h_{(t-1)} + W^{(f)}x_{(t)})$$"
      ],
      "metadata": {
        "id": "bADzrReRH8Uw"
      }
    },
    {
      "cell_type": "markdown",
      "source": [
        "There are two weight matrices associated with forget gate, one for the previous hidden state and the other for the input. The significance of the sigmoid function is its range of 0 to 1. This feature is used to generate the probabilities* that the certain feature of the cell would be useful in learning the pattern or generating the output. In this case, $f_{(t)}$ acts as an indicator/selector with regards to how much the history of the cell memory, $c_{(t-1)}$ influences its current predictions and learning."
      ],
      "metadata": {
        "id": "2yHNaaiAJlOz"
      }
    },
    {
      "cell_type": "markdown",
      "source": [
        "NOTE: All the values generated by all the gates would be used on the operation of Hadamard product to generate new state values of the cell. This is evident as all the outputs of the gate are the output of the sigmoid function (and can be thought of as probabilities).\n",
        "\n",
        "*They are not technically probabilities. These quantities generated by the gate can be thought of as influencing \"how much\" of a certain state value should \"flow\", i.e., to what extent will, say, $c_{(t-1)}$ influence, say, the cell memory, $c_{(t)}$"
      ],
      "metadata": {
        "id": "t_kMejXlLvKQ"
      }
    },
    {
      "cell_type": "markdown",
      "source": [
        "### Input gate\n",
        "\n",
        "The input gate functions as a valve, deciding to what extent (from 0% to 100%) the candidate cell memory, $\\tilde{c}_{(t)}$ would contribute to the cell memory, $c_{(t)}$. Similar, to the forget gate, the quantity given out by this gate depends on the input and the previous hidden state of the cell. The relation is as follows:-\n",
        "\n",
        "$$i_{(t)} = \\sigma(U^{(i)}h_{(t-1)} + W^{(i)}x_{(t)})$$"
      ],
      "metadata": {
        "id": "k9w7KHMoNozQ"
      }
    },
    {
      "cell_type": "markdown",
      "source": [
        "NOTE:-  The weight matrices associated with different gates are not the same."
      ],
      "metadata": {
        "id": "bh2R4uewQjSg"
      }
    },
    {
      "cell_type": "markdown",
      "source": [
        "Let us look at the candidate cell memory. The candidate cell memory is as the name states, a candidate for the cell memory at this time step. It is determined purely by the input and the previous hidden state. It is given as follows:-\n",
        "\n",
        "\n",
        "  $$ \\tilde{c}_{(t)} = tanh(U^{(c)}h_{(t-1)} +  W^{(c)}x_{(t)})$$"
      ],
      "metadata": {
        "id": "bWk6UN13Qs1p"
      }
    },
    {
      "cell_type": "markdown",
      "source": [
        "We don't completely use candidate cell memory because of that would defeat the purpose of LSTM - the ability to store information selectively in the long term as well as short term, and therefore would not solve the main issue of vanilla RNNs. Another thing you might be wondering is why the tanh function? This [StackOverflow](https://stackoverflow.com/questions/40761185/what-is-the-intuition-of-using-tanh-in-lstm) post explains why."
      ],
      "metadata": {
        "id": "ZLfsXJeqRwvs"
      }
    },
    {
      "cell_type": "markdown",
      "source": [
        "## Output gate\n",
        "\n",
        "The output gate produces $o_{(t)}$ which controls the contribution of $c_{(t)}$ for $h_{(t)}$. It acts very similar to the outputs of the previous gates. Now, let us see how $c_{(t)}$ and $o_{(t)}$ is defined.\n",
        "\n",
        "$$c_{(t)} = f_{(t)} * c_{(t - 1)} + i_{(t)} * \\tilde{c}_{(t - 1)}$$\n",
        "\n",
        "$$o_{(t)} = \\sigma(U^{(o)}h_{(t-1)} + W^{(o)}x_{(t)})$$"
      ],
      "metadata": {
        "id": "kyosR4r9hvlk"
      }
    },
    {
      "cell_type": "markdown",
      "source": [
        "The final output of the LSTM which is (by default) the last hidden state, $h_{t}$. It is given by:-\n",
        "\n",
        "$$h_{(t)} = o_{(t)} * tanh(c_{(t)})$$"
      ],
      "metadata": {
        "id": "AZT1H5zMj1TT"
      }
    },
    {
      "cell_type": "markdown",
      "source": [
        "The reason for the tanh function can be thought of as its range of [-1, 1] which doesn't lead to exploding values. Another reason is due to better learning of models in practice as compared to sigmoid."
      ],
      "metadata": {
        "id": "STubfPm_kVrD"
      }
    }
  ]
}